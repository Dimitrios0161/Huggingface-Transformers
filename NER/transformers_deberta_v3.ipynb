{
 "cells": [
  {
   "cell_type": "code",
   "execution_count": null,
   "metadata": {},
   "outputs": [],
   "source": [
    "import os\n",
    "from transformers import pipeline\n",
    "\n",
    "pipe = pipeline(\"fill-mask\", model=\"microsoft/deberta-v3-large\")"
   ]
  },
  {
   "cell_type": "code",
   "execution_count": 1,
   "metadata": {},
   "outputs": [],
   "source": [
    "token = os.getenv('HF_INFER_KEY')"
   ]
  },
  {
   "cell_type": "code",
   "execution_count": 3,
   "metadata": {},
   "outputs": [
    {
     "name": "stdout",
     "output_type": "stream",
     "text": [
      "{'entity': 'B-FIRSTNAME', 'score': 0.9993351, 'index': 4, 'word': 'ĠDim', 'start': 10, 'end': 14}\n",
      "{'entity': 'B-FIRSTNAME', 'score': 0.99915326, 'index': 5, 'word': 'itri', 'start': 14, 'end': 18}\n",
      "{'entity': 'B-FIRSTNAME', 'score': 0.9966813, 'index': 6, 'word': 'os', 'start': 18, 'end': 20}\n",
      "{'entity': 'B-EMAIL', 'score': 0.99974316, 'index': 11, 'word': 'Ġdim', 'start': 36, 'end': 40}\n",
      "{'entity': 'B-EMAIL', 'score': 0.9994417, 'index': 12, 'word': 'itri', 'start': 40, 'end': 44}\n",
      "{'entity': 'B-EMAIL', 'score': 0.9986105, 'index': 13, 'word': 'os', 'start': 44, 'end': 46}\n",
      "{'entity': 'I-EMAIL', 'score': 0.9999491, 'index': 14, 'word': '@', 'start': 46, 'end': 47}\n",
      "{'entity': 'I-EMAIL', 'score': 0.99994993, 'index': 15, 'word': 'gmail', 'start': 47, 'end': 52}\n",
      "{'entity': 'I-EMAIL', 'score': 0.9999484, 'index': 16, 'word': '.', 'start': 52, 'end': 53}\n",
      "{'entity': 'I-EMAIL', 'score': 0.99994886, 'index': 17, 'word': 'com', 'start': 53, 'end': 56}\n",
      "{'entity': 'B-PHONE_NUMBER', 'score': 0.32576156, 'index': 22, 'word': 'Ġ000', 'start': 78, 'end': 82}\n",
      "{'entity': 'B-PIN', 'score': 0.26851866, 'index': 23, 'word': '22', 'start': 82, 'end': 84}\n",
      "{'entity': 'I-PIN', 'score': 0.18593532, 'index': 24, 'word': '25', 'start': 84, 'end': 86}\n",
      "{'entity': 'I-PIN', 'score': 0.28457013, 'index': 25, 'word': '55', 'start': 86, 'end': 88}\n",
      "{'entity': 'I-PIN', 'score': 0.3274402, 'index': 26, 'word': '666', 'start': 88, 'end': 91}\n"
     ]
    }
   ],
   "source": [
    "import requests\n",
    "\n",
    "API_URL = \"https://fq6obgagyez8ue79.us-east4.gcp.endpoints.huggingface.cloud\"\n",
    "headers = {\"Authorization\": f'Bearer {token}'}\n",
    "\n",
    "payload = {\n",
    " \"inputs\": \"My name is Dimitrios and my email is dimitrios@gmail.com and contact number is 000222555666\"\n",
    "}\n",
    "\n",
    "response = requests.post(API_URL, headers=headers, json=payload)\n",
    "masked_data = response.json()\n",
    "print(*masked_data, sep=\"\\n\")\n"
   ]
  },
  {
   "cell_type": "code",
   "execution_count": null,
   "metadata": {},
   "outputs": [],
   "source": []
  }
 ],
 "metadata": {
  "kernelspec": {
   "display_name": "pytorch_env",
   "language": "python",
   "name": "python3"
  },
  "language_info": {
   "codemirror_mode": {
    "name": "ipython",
    "version": 3
   },
   "file_extension": ".py",
   "mimetype": "text/x-python",
   "name": "python",
   "nbconvert_exporter": "python",
   "pygments_lexer": "ipython3",
   "version": "3.12.4"
  }
 },
 "nbformat": 4,
 "nbformat_minor": 2
}
