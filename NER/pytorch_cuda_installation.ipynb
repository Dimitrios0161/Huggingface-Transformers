{
 "cells": [
  {
   "cell_type": "code",
   "execution_count": 1,
   "metadata": {},
   "outputs": [],
   "source": [
    "import torch"
   ]
  },
  {
   "cell_type": "code",
   "execution_count": 2,
   "metadata": {},
   "outputs": [
    {
     "name": "stdout",
     "output_type": "stream",
     "text": [
      "Pytorch version: 2.3.1\n",
      "CUDA device is available True\n"
     ]
    }
   ],
   "source": [
    "print(f\"Pytorch version: {torch.__version__}\")\n",
    "print(f\"CUDA device is available {torch.cuda.is_available()}\")\n",
    "assert torch.cuda.is_available(), ValueError(\"CUDA device is not recognised.\")"
   ]
  },
  {
   "cell_type": "code",
   "execution_count": 3,
   "metadata": {},
   "outputs": [
    {
     "name": "stdout",
     "output_type": "stream",
     "text": [
      "Variable shape: torch.Size([3, 3])\n",
      "Variable devive: cuda:0\n"
     ]
    }
   ],
   "source": [
    "device=\"cuda\"\n",
    "a = torch.rand(3,1).to(device)\n",
    "b = torch.rand(1,3).to(device)\n",
    "c=a@b\n",
    "\n",
    "print(f\"Variable shape: {c.shape}\")\n",
    "print(f\"Variable devive: {c.device}\")"
   ]
  },
  {
   "cell_type": "code",
   "execution_count": null,
   "metadata": {},
   "outputs": [],
   "source": []
  }
 ],
 "metadata": {
  "kernelspec": {
   "display_name": "pytorch_env",
   "language": "python",
   "name": "python3"
  },
  "language_info": {
   "codemirror_mode": {
    "name": "ipython",
    "version": 3
   },
   "file_extension": ".py",
   "mimetype": "text/x-python",
   "name": "python",
   "nbconvert_exporter": "python",
   "pygments_lexer": "ipython3",
   "version": "3.12.4"
  }
 },
 "nbformat": 4,
 "nbformat_minor": 2
}
